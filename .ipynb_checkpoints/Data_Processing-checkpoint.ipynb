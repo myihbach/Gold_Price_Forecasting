{
 "cells": [
  {
   "cell_type": "code",
   "execution_count": 3,
   "metadata": {},
   "outputs": [],
   "source": [
    "import yfinance as yf\n",
    "import numpy as np\n",
    "import pandas as pd\n",
    "import matplotlib.pyplot as plt\n",
    "import datetime\n",
    "import ta\n",
    "from sklearn.ensemble import RandomForestRegressor\n",
    "from sklearn.preprocessing import MinMaxScaler\n",
    "from sklearn.pipeline import Pipeline\n",
    "from sklearn.model_selection import GridSearchCV\n",
    "from sklearn.linear_model import Lasso\n",
    "from sklearn.datasets import load_diabetes"
   ]
  },
  {
   "cell_type": "code",
   "execution_count": 4,
   "metadata": {},
   "outputs": [],
   "source": [
    "def get_sma(close,windows):\n",
    "    df = pd.DataFrame()\n",
    "    for window in windows:\n",
    "        df['SMA_'+str(window)] = ta.trend.SMAIndicator(close,window).sma_indicator()\n",
    "    return df"
   ]
  },
  {
   "cell_type": "code",
   "execution_count": 5,
   "metadata": {},
   "outputs": [],
   "source": [
    "def get_atr(low,high,close,windows):\n",
    "    df = pd.DataFrame()\n",
    "    for window in windows:\n",
    "        df['ATR_'+str(window)] = ta.volatility.AverageTrueRange(high,low,close,window).average_true_range()\n",
    "    return df"
   ]
  },
  {
   "cell_type": "code",
   "execution_count": 6,
   "metadata": {},
   "outputs": [],
   "source": [
    "def get_rsi(close,windows):\n",
    "    df = pd.DataFrame()\n",
    "    for window in windows:\n",
    "        df['RSI_'+str(window)] = ta.momentum.RSIIndicator(close,window).rsi()\n",
    "    return df"
   ]
  },
  {
   "cell_type": "code",
   "execution_count": 7,
   "metadata": {},
   "outputs": [],
   "source": [
    "def get_mfi(low,high,close,volume,windows):\n",
    "    df = pd.DataFrame()\n",
    "    for window in windows:\n",
    "        df['MFI_'+str(window)] = ta.volume.MFIIndicator(high,low,close,volume,window).money_flow_index()\n",
    "    return df"
   ]
  },
  {
   "cell_type": "code",
   "execution_count": 16,
   "metadata": {},
   "outputs": [],
   "source": [
    "def get_data(start,end,TI_windows):\n",
    "    \n",
    "    print(\"DOWNLOADING THE DATA FROM YAHOO FINANCE ....\")\n",
    "    gold = yf.download('GC=F',interval='1d',start=start, end=end)\n",
    "    gold.pop('Adj Close')\n",
    "    dataframe = pd.DataFrame()\n",
    "    for i in range(1,10):\n",
    "        gold['t-'+str(i)] = gold.Close.shift(i)\n",
    "    \n",
    "    ## getting tchnical indicators\n",
    "    print(\"ADDING TECHNICAL INDICATORS ...\")\n",
    "    \n",
    "    ## Volume indicators\n",
    "    mfi_df = get_mfi(gold.Low,gold.High,gold.Close,gold.Volume,TI_windows)\n",
    "    ## Volatility indicators\n",
    "    atr_df = get_atr(gold.Low,gold.High,gold.Close,TI_windows)\n",
    "    ## Trend indicators\n",
    "    sma_df = get_sma(gold.Close,TI_windows)\n",
    "    ## Momentum indicators\n",
    "    rsi_df = get_rsi(gold.Close,TI_windows)\n",
    "    \n",
    "    gold = pd.concat([gold, sma_df,atr_df,rsi_df,mfi_df], axis=1)\n",
    "    \n",
    "    ## SELECT THE BEST FEATURES\n",
    "    gold = gold.dropna()\n",
    "    print(\"SELECTING THE BEST FEATURES ....\")\n",
    "    X = gold.drop(columns=['Close'])\n",
    "    y = gold.Close\n",
    "    # fit random forest model\n",
    "    model = RandomForestRegressor(n_estimators=500, random_state=42)\n",
    "    model.fit(X, y)\n",
    "    names = X.columns\n",
    "    fs_rf = names[model.feature_importances_ > 0.001]\n",
    "    \n",
    "    X = gold.drop(columns=['Close'])\n",
    "    y = gold.Close\n",
    "    features = X.columns\n",
    "    \n",
    "    pipeline = Pipeline([\n",
    "                         ('scaler',MinMaxScaler()),\n",
    "                         ('model',Lasso(tol=0.01))\n",
    "    ])\n",
    "    \n",
    "    search = GridSearchCV(pipeline,\n",
    "                          {'model__alpha':np.arange(0.1,10,0.1)},\n",
    "                          cv = 5, scoring=\"neg_mean_squared_error\",verbose=0\n",
    "                          )\n",
    "\n",
    "    search.fit(X,y)\n",
    "    search.best_params_\n",
    "    coefficients = search.best_estimator_.named_steps['model'].coef_\n",
    "    importance = np.abs(coefficients)\n",
    "    \n",
    "    fs_lass = np.array(features)[importance > 0]\n",
    "    selected_features = np.intersect1d(fs_rf,fs_lass)\n",
    "    final_data = gold[selected_features].copy()\n",
    "    final_data['Close'] = gold.Close\n",
    "    return final_data"
   ]
  },
  {
   "cell_type": "code",
   "execution_count": null,
   "metadata": {},
   "outputs": [],
   "source": []
  }
 ],
 "metadata": {
  "kernelspec": {
   "display_name": "Python 3 (ipykernel)",
   "language": "python",
   "name": "python3"
  },
  "language_info": {
   "codemirror_mode": {
    "name": "ipython",
    "version": 3
   },
   "file_extension": ".py",
   "mimetype": "text/x-python",
   "name": "python",
   "nbconvert_exporter": "python",
   "pygments_lexer": "ipython3",
   "version": "3.8.3"
  }
 },
 "nbformat": 4,
 "nbformat_minor": 4
}
